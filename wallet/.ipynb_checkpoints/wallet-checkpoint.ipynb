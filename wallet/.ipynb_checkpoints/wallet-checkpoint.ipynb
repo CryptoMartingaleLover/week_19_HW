{
 "cells": [
  {
   "cell_type": "code",
   "execution_count": 32,
   "id": "b2112bad-2ff4-40cb-968b-6b2b7d7eef8f",
   "metadata": {},
   "outputs": [],
   "source": [
    "# Import dependencies\n",
    "import subprocess\n",
    "import json\n",
    "from dotenv import load_dotenv\n",
    "import os\n",
    "from constants import *\n",
    "from bit import Key, PrivateKey, PrivateKeyTestnet\n",
    "from bit.network import NetworkAPI\n",
    "from bit import *\n",
    "from web3 import Web3\n",
    "from eth_account import Account"
   ]
  },
  {
   "cell_type": "code",
   "execution_count": 33,
   "id": "711c197b-2b69-4eb1-ad7a-ac1c13089955",
   "metadata": {},
   "outputs": [
    {
     "name": "stdout",
     "output_type": "stream",
     "text": [
      "squeeze liar emotion maple pledge damage raise mask swamp wisdom riot tell\n"
     ]
    }
   ],
   "source": [
    "# Load and set environment variables\n",
    "# Import constants.py and necessary functions from bit and web3\n",
    "\n",
    "w3 = Web3(Web3.HTTPProvider(\"http://127.0.0.1.8545\"))\n",
    "\n",
    "load_dotenv('mnemonic.env')\n",
    "\n",
    "mnemonic = os.getenv('MNEMONIC', 'squeeze liar emotion maple pledge damage raise mask swamp wisdom riot tell')\n",
    "print(mnemonic)"
   ]
  },
  {
   "cell_type": "code",
   "execution_count": 36,
   "id": "a01193a7-860c-44cd-ac49-7cd139c5773b",
   "metadata": {},
   "outputs": [],
   "source": [
    "# Create a function called `derive_wallets`\n",
    "  \n",
    "def derive_wallets(mnemonic, coin, numderive):\n",
    "    command = f'php hd-wallet-derive/hd-wallet-derive.php -g --mnemonic=\"{mnemonic}\" --coin=\"{coin}\" --format=json' \n",
    "    p = subprocess.Popen(command, stdout=subprocess.PIPE, shell=True)\n",
    "    output, err = p.communicate()\n",
    "    p_status = p.wait()\n",
    "    keys = json.loads(output)\n",
    "    return keys"
   ]
  },
  {
   "cell_type": "code",
   "execution_count": 37,
   "id": "b2ba3ad7-af54-4cd3-9866-8a944a25038b",
   "metadata": {},
   "outputs": [],
   "source": [
    "# Create a dictionary object called coins to store the output from `derive_wallets`.\n",
    "coins = {'eth', 'btc-test', 'btc'}\n",
    "numderive = 3"
   ]
  },
  {
   "cell_type": "code",
   "execution_count": 38,
   "id": "09a084ed-107d-4542-abdf-81ed57947ca4",
   "metadata": {},
   "outputs": [],
   "source": [
    "keys = {}\n",
    "for coin in coins:\n",
    "    keys[coin]= derive_wallets('mnemonic', coin, numderive=3)\n",
    "    "
   ]
  },
  {
   "cell_type": "code",
   "execution_count": 39,
   "id": "677f3ac2-b5b5-4e4a-8679-4f7aac24cabb",
   "metadata": {},
   "outputs": [],
   "source": [
    "eth_PrivateKey = keys['eth'][0]['privkey']\n",
    "btc_PrivateKey = keys['btc-test'][0]['privkey']"
   ]
  },
  {
   "cell_type": "code",
   "execution_count": 40,
   "id": "ced7544c-73ed-4834-a840-51c80b79887b",
   "metadata": {},
   "outputs": [
    {
     "name": "stdout",
     "output_type": "stream",
     "text": [
      "eth_PrivateKey: \"0x82d63adc8be924a92ef77c6e3286c4e80eaebad63ba2b91c27801a62ba2f9410\"\n",
      "btc_PrivateKey: \"cVAgDoahzo5Ucdv8ioxxubvmE6LfU3ZQgJ21UvY4eC1xi6WkvnXe\"\n"
     ]
    }
   ],
   "source": [
    "print(\"eth_PrivateKey:\",json.dumps(eth_PrivateKey, indent=1))\n",
    "print(\"btc_PrivateKey:\",json.dumps(btc_PrivateKey, indent=1))\n",
    "\n"
   ]
  },
  {
   "cell_type": "code",
   "execution_count": 41,
   "id": "5f9f4f00-e402-4080-bc98-c91524deafeb",
   "metadata": {},
   "outputs": [
    {
     "name": "stdout",
     "output_type": "stream",
     "text": [
      "{\n",
      " \"btc-test\": [\n",
      "  {\n",
      "   \"path\": \"m/44'/1'/0'/0/0\",\n",
      "   \"address\": \"mtgb9hthmFpY1zidrYmZ24eTF87aBA147h\",\n",
      "   \"xprv\": \"tprv8kmimjp9GYq9EvcrxozEhxzk9jGwaC73BSiy3ATqwwikM4YgH7685zQLzX7xzXAmhXxf5LZbpbqtSGX3fcNFbfVJdxuEYPrA5tDRRQgwPRm\",\n",
      "   \"xpub\": \"tpubDHTkv9rPQvWp8PeerTeq7NeriknsjXHwkkKkKgW9NDX9BYoSuVuiGV2DAejLNv85zVm31akUTVk6Z8MyhECbWDzQ3Qir4GoRCXfBgKk8GxA\",\n",
      "   \"privkey\": \"cVAgDoahzo5Ucdv8ioxxubvmE6LfU3ZQgJ21UvY4eC1xi6WkvnXe\",\n",
      "   \"pubkey\": \"0339b281b12687c70a024ef409229b55d404533b4e9a475dc9d3883c0172913fb6\",\n",
      "   \"pubkeyhash\": \"906c250da82c2bd3edf9bcbbbb29f2188065f9d2\",\n",
      "   \"index\": 0\n",
      "  },\n",
      "  {\n",
      "   \"path\": \"m/44'/1'/0'/0/1\",\n",
      "   \"address\": \"mxwSU31v1NtbUi6Pc5bN9BgmmAGw13JdvX\",\n",
      "   \"xprv\": \"tprv8kmimjp9GYq9FvSyaAKU2MY38GBpiMHEsjgMtnLaMhyZQPzAiEM6ZTC8z9vdTsJVRQDcoCvLeWEHiPWWLpiGMjoYcffLhXJXNbJawYjKTof\",\n",
      "   \"xpub\": \"tpubDHTkv9rPQvWp9PUmToz4RmC9hHhksgU9T3H9BJNsmymxEtEwLdAgjwp1AHtm7kbkbHvsC3zA3cjHi6DAFtGCvFMgY961mo7mg5ABBu21126\",\n",
      "   \"privkey\": \"cRG5vrAkkq3ZkTmT2mmqCgbxd8niBdXx3ocDMd1771oSzJDvqXiC\",\n",
      "   \"pubkey\": \"02f4468eae06b195a4f83cc63d680d015d512af60288977e0283fd4299bfcde24b\",\n",
      "   \"pubkeyhash\": \"bf1ba366dd65a4824c22f497bbff1fae89007841\",\n",
      "   \"index\": 1\n",
      "  },\n",
      "  {\n",
      "   \"path\": \"m/44'/1'/0'/0/2\",\n",
      "   \"address\": \"n2QTqdWK96XyJ7o8LXqoCjNbmtrFNFbNb6\",\n",
      "   \"xprv\": \"tprv8kmimjp9GYq9JExZDMjKjYhzHGQwQHVmMh2cRP5BLMAgCbw7fNgDssZJCujBDau2t2PEzddu8QApnrgnhzktN4LT8BXEM7HDSrxMHM6XasY\",\n",
      "   \"xpub\": \"tpubDHTkv9rPQvWpBhzM71Pv8xN6rHvsZcgfvzdPhu7Ukcy536BtHmVp4NBAP4aP5Laycoz7Shaprf1xgAyBrZdGuoDWUFcrPc3UuiqRTBcQnxt\",\n",
      "   \"privkey\": \"cUMUWn4yukMK41LpebaCmnbH26XCQn9EDoSK753FxSNxQC77i5TU\",\n",
      "   \"pubkey\": \"03c486d31c700f8342f6dac13fffaab4d44c492637042659ae2922846c89077101\",\n",
      "   \"pubkeyhash\": \"e5206464e15c29f28f54678782a909be5954f6cc\",\n",
      "   \"index\": 2\n",
      "  },\n",
      "  {\n",
      "   \"path\": \"m/44'/1'/0'/0/3\",\n",
      "   \"address\": \"mxFYADQZPJLqQnY3PESwT5qAbcUUFAD4BE\",\n",
      "   \"xprv\": \"tprv8kmimjp9GYq9NDJuR1LTDJGmk4YsEvcQeWk7PQRkwrMr75Lcg7KovaXnrLed1uzDDBzsahkmYCqioYJCSJQXmjPkqNfsXca5kFfqmxK2811\",\n",
      "   \"xpub\": \"tpubDHTkv9rPQvWpFgLhJf13chvtK64oQFoKDpLtfvU4N8AEwZbPJW9Q759f2UcCZp5H9imnb1sKYgRMUsnhawwYpZf3SGFPtf5Zvz8Ggw8HNMp\",\n",
      "   \"privkey\": \"cN8eMacyo5UgYX7nGyqwkTFMdsatvZjvrmQ5AkjafEv6DVt1sGZP\",\n",
      "   \"pubkey\": \"0295adc18205b99b1cf5418a4411b31a083a957051fa4409bc36d2a48ad09b4a70\",\n",
      "   \"pubkeyhash\": \"b78fc07b360e7fa22e4219f98a5ed9485afd5d2a\",\n",
      "   \"index\": 3\n",
      "  },\n",
      "  {\n",
      "   \"path\": \"m/44'/1'/0'/0/4\",\n",
      "   \"address\": \"n3hZ1MZ4YMCzgHKHRiHTh7cCVPXfrqaq1S\",\n",
      "   \"xprv\": \"tprv8kmimjp9GYq9Pars3JVQMCgCg4SqU5UhL49EzedRaVkjv7nvbje1pHuYxucLZHK4pEHjsPPrHbaFjFEQEpKEdgUgifBU6eg8L5JbgZuP1uo\",\n",
      "   \"xpub\": \"tpubDHTkv9rPQvWpH3tevx9zkcLKF5xmdQfbuMk2HAfizmZ8kc3hE8TbznXR92vy2sEkamddrpF5vcwmVaMs9c8uxu3yVR4XnE2JjGcNswG79CD\",\n",
      "   \"privkey\": \"cN5eNVS9DZLSnVpahVPPbC61nNELyTQTKy9qMzimS95GwV7NFqSM\",\n",
      "   \"pubkey\": \"02403cb07c946c6200f7b1e1a5380e44e0910ea9983ae5e93a596b31205606c160\",\n",
      "   \"pubkeyhash\": \"f353e72e8475110676a245cb9f7b53d0d05244b7\",\n",
      "   \"index\": 4\n",
      "  },\n",
      "  {\n",
      "   \"path\": \"m/44'/1'/0'/0/5\",\n",
      "   \"address\": \"n2ugoeDKdg9cPiQa6aDUos6REkMXTAv32W\",\n",
      "   \"xprv\": \"tprv8kmimjp9GYq9TwB32UwJcaNzi96nYzWD8CyyFRi34Wp9FtobWfmRiZvM9hgE3cBk2ma2H2KrjG3kSmwLSA7Puh9uv8KgYhsUsZ4RWG9DY2W\",\n",
      "   \"xpub\": \"tpubDHTkv9rPQvWpMQCpv8bu1z37HAciiKh7hWakXwkLUncY6P4N94b1u4YDKrdHRQFJftErg9w9EgPMScrrHuA5w2M4NH2WcujqdRjawmyCP7H\",\n",
      "   \"privkey\": \"cTRXBWkxgZYen6PFjdGGqEehbGtN8fFCE4mybanUeETe17V2Dzo6\",\n",
      "   \"pubkey\": \"03b60ff6247939ce030dd5b03969a7cfaf41674c1801e308e4ecf68fcbc8a87841\",\n",
      "   \"pubkeyhash\": \"eaa7473eb1dc34ddc92008ee74f6578da40989f8\",\n",
      "   \"index\": 5\n",
      "  },\n",
      "  {\n",
      "   \"path\": \"m/44'/1'/0'/0/6\",\n",
      "   \"address\": \"n2twibDtC9NmgB8kpHR3AYUWc7w8i1sXYf\",\n",
      "   \"xprv\": \"tprv8kmimjp9GYq9UdiP2sSWYAFgH7HrJ3yn2gPuf7UACEEJAcSGKdYYtnwmh8Qu29wfzLxRZS4G8w4oNQKktwNvDU3gHvshUFR3b5k9gaBrX5x\",\n",
      "   \"xpub\": \"tpubDHTkv9rPQvWpN6kAvX76wZunr8onTPAgbyzgwdWTcW2h16h2x2N95HZdsHQn85EKkqYg8ggRdD85dtdajTM2NrkT4oePdeZ66oGqWbCaRsK\",\n",
      "   \"privkey\": \"cUAGdKjjfepTdH9LKN7hXEGfvuFWkBGtpnXnkqJkhYBuoVDW1cWb\",\n",
      "   \"pubkey\": \"03d276b808d8bb89220a27498c8535bb17c9a34aa57970b79b127cd564cdc14213\",\n",
      "   \"pubkeyhash\": \"ea834f9df722c529f5a4b954b33fa188c98d2a45\",\n",
      "   \"index\": 6\n",
      "  },\n",
      "  {\n",
      "   \"path\": \"m/44'/1'/0'/0/7\",\n",
      "   \"address\": \"mgR2dBATJQXU4QUJi8yD3iY9t4VmMgtwhT\",\n",
      "   \"xprv\": \"tprv8kmimjp9GYq9YMWNsFfsrATGfkjg93iXQrsE14oj4HK1ASsrUfubNCk9yJinZfqGKsDV69mhFi7drHje4HYU5rr9pwjtWNDrGRvyEtHEHi2\",\n",
      "   \"xpub\": \"tpubDHTkv9rPQvWpRpYAkuLUFa7PEnFcJNuRzAU1Har2UZ7Pzw8d74jBYhN29S3ZoET5eSFRPWSFLoZCaQQVcMcDsZKnGfve5xMDG7qwcFBmYKx\",\n",
      "   \"privkey\": \"cVb7fkwQqsuhjcKGP58seWV9mHVEBduBsdfNJA5xiHQy5LPeto77\",\n",
      "   \"pubkey\": \"03209a3fc8e94865a7dfd1efc6bf5692cbb0e4a8780d37d2083107feefbf7c8fda\",\n",
      "   \"pubkeyhash\": \"09d93e8793a2d57477556746d06e69fbd0ab6468\",\n",
      "   \"index\": 7\n",
      "  },\n",
      "  {\n",
      "   \"path\": \"m/44'/1'/0'/0/8\",\n",
      "   \"address\": \"mmm4XGqMUGYZA5FVsnM9jjuPdvbTkcYgmd\",\n",
      "   \"xprv\": \"tprv8kmimjp9GYq9at1fAmj8kmHMm3PFeNDNPMu61ieXtabiRvBLrz8VaFa8AX6BSvwgxf7nqUyzjP5Z3bwU8zNSHxaDH9nw7ce8Q43afa3jq51\",\n",
      "   \"xpub\": \"tpubDHTkv9rPQvWpUM3T4RPjAAwUL4uBohQGxfVsJEgqJrQ7GQS7VNx5kkBzLcu9qyMAr4Ns1mVKcgFEBfGrasygvzM2EV96BtpLmS1WD3ABTze\",\n",
      "   \"privkey\": \"cVo6equjJG22LwoDCNFdb2pZnvxfDRCKm6xrpjg1veXnEwr3mexU\",\n",
      "   \"pubkey\": \"025f6398b61fd5c006685ebdbb11476f5b1db89f474d393f01fa6707b598198f42\",\n",
      "   \"pubkeyhash\": \"447bc6e8246aa31edb352d1fa2b8b9744259f4d4\",\n",
      "   \"index\": 8\n",
      "  },\n",
      "  {\n",
      "   \"path\": \"m/44'/1'/0'/0/9\",\n",
      "   \"address\": \"mvwEPFVx14PoWKFMBqCbmaQjXgsBBgtUSu\",\n",
      "   \"xprv\": \"tprv8kmimjp9GYq9d14oWtXaYnW4rXrFEShGYm4mKX72QABFgaCkiqZey3rXMJshDn5LEBgRDuaxGeyojjNfuAWDs944BfBrbxfozVX44hZL2fR\",\n",
      "   \"xpub\": \"tpubDHTkv9rPQvWpWU6bQYCAxCABRZNBPmtB84fYc39KpRyeX4TXMEPF9YUPXQPYkL6C2tF4rfr8BrLSfEqr9yhjJ4hTuVaRBR5QnydNZAUb4Ao\",\n",
      "   \"privkey\": \"cTwuAxFKus6uALWyL5GpQjicWVZaHzivqv8tCWpimcpSRh3JPBmp\",\n",
      "   \"pubkey\": \"02015f70c9c9c3129788b5206f2d4652056c02ac8425fde3d1343a2c35eaf147e8\",\n",
      "   \"pubkeyhash\": \"a9214cfeacb35b4d4ccc201232f7198c2f61b429\",\n",
      "   \"index\": 9\n",
      "  }\n",
      " ],\n",
      " \"btc\": [\n",
      "  {\n",
      "   \"path\": \"m/44'/0'/0'/0/0\",\n",
      "   \"address\": \"16oW9TCUycMQ7KH7pnZxUT8KBsqCHAeGMT\",\n",
      "   \"xprv\": \"xprvA48XEgXexBcQKLSyVvf6zZj9jzirsWL8DJje45BeT4H5M7usuRhzDmVJHWkXWhZeniR21U8oveinWKrMnfRWq8byngLZANci1qZnKM2hS1D\",\n",
      "   \"xpub\": \"xpub6H7seC4YnZAhXpXSbxC7MhftJ2ZMGy3yaXfErTbG1Pp4DvF2Sy2EmZon8mCPDS4BMtj83hufHjDQAHBHRmuDwTtsMX8PDU9CpSo44V4ozfe\",\n",
      "   \"privkey\": \"L5fYwHf7PPGXpNK4o8ReP8eNurb4FB8xqpuHWoxKaLd5miue4VAz\",\n",
      "   \"pubkey\": \"02aeff4f673c550ef8457c04208d9431e464a4077f33364f705912fc7ffc4b4fc1\",\n",
      "   \"pubkeyhash\": \"3fa417c08fa6db61ee37f1561dcec1801b0b01e3\",\n",
      "   \"index\": 0\n",
      "  },\n",
      "  {\n",
      "   \"path\": \"m/44'/0'/0'/0/1\",\n",
      "   \"address\": \"1Lyms49i5cX7G5rdK5JQaWnVFxGUwncBXX\",\n",
      "   \"xprv\": \"xprvA48XEgXexBcQMxtyKAj4GRkxCc8X5jNL3met79yWiFdbEV473iJyuEh4ywC5wUZDKVZnTsZZMdny7sngqWufDLvFactA4K4itp1fGHVojxk\",\n",
      "   \"xpub\": \"xpub6H7seC4YnZAhaSySRCG4dZhgkdy1VC6BQzaUuYP8GbAa7HPFbFdET31YqC71FzQNiFkXz8oRbpMG8dtExL9WxSHbSSE9nDAmdhmgNKsvEXM\",\n",
      "   \"privkey\": \"KxnpFgEZg47djKjDbdRN8jNqAsjr39jJvyiyzw6uSR4jGVtQYnAx\",\n",
      "   \"pubkey\": \"021f522356c0ad9c8cede041fbd09ef58f78efeb2ae9b2ea694edb06b50eee5b06\",\n",
      "   \"pubkeyhash\": \"db27222d3f528390209cfab3e22b6c35af7ad86c\",\n",
      "   \"index\": 1\n",
      "  },\n",
      "  {\n",
      "   \"path\": \"m/44'/0'/0'/0/2\",\n",
      "   \"address\": \"166CGTppNQT3FENaXuf3XzKr6AJdrAjry1\",\n",
      "   \"xprv\": \"xprvA48XEgXexBcQQFB3oUx1faPoC7yDfy8HQynfz99usQEF3PD62aJbwUW9rW2fC3uonUN4tJqeSbu49p9sX2aEehsC8kD9Su4RhYL5Zcuk3ni\",\n",
      "   \"xpub\": \"xpub6H7seC4YnZAhcjFWuWV22iLXk9oi5Rr8nCiGnXZXRjmDvBYEa7crVGpdhoRNX9AANkv1F7NZ5Jpk62CwuEZWNWct5euSfzxTvNoW6RKhqTb\",\n",
      "   \"privkey\": \"L2qmPuhbspwTSt1TNZCFPeAXB9wH5p1GZd7qYRgtGDGHAwsVfRKN\",\n",
      "   \"pubkey\": \"03deb0499042be46fc3faf24073f698a1b33ba6456fa23b0140958e6c7d88cef37\",\n",
      "   \"pubkeyhash\": \"37d41d15605a59baeafb241f43e0c9a1b1ee6895\",\n",
      "   \"index\": 2\n",
      "  },\n",
      "  {\n",
      "   \"path\": \"m/44'/0'/0'/0/3\",\n",
      "   \"address\": \"1KwfzffZa2fZ1VAtMs4mqLzZxsZmU6vDwW\",\n",
      "   \"xprv\": \"xprvA48XEgXexBcQT2Jf1KiQwLPQa17XY6PA6i1mXjzqXorR5JMJjoMXF5qmc1Eicv4q65YdRQMTcRyMgdQGHf8ZWi9UHK9Tr33ymy1vmDgnebu\",\n",
      "   \"xpub\": \"xpub6H7seC4YnZAhfWP87MFRJUL982x1wZ71TvwNL8QT69PPx6gTHLfmntAFTGka1wpKc8sfnjyGgauhymfypcDTuveZCx7VaF4mnMMo8iy9fiL\",\n",
      "   \"privkey\": \"L3pj5sdnCNbRVajKag9xkWEBEgCvtJxQ9zMwGpfrjpMgRYAsJ8Hd\",\n",
      "   \"pubkey\": \"0304cf210d3a7f1d20b02c68c85fa4ac9abd04fe130a9b1324dcb3e40d09ac84f5\",\n",
      "   \"pubkeyhash\": \"cfc946dcd68d21559f9d92b4472d0c6f182e7c09\",\n",
      "   \"index\": 3\n",
      "  },\n",
      "  {\n",
      "   \"path\": \"m/44'/0'/0'/0/4\",\n",
      "   \"address\": \"15m3gFwi4KUy3KEV1oryKGNkBUrQofXV3U\",\n",
      "   \"xprv\": \"xprvA48XEgXexBcQVYmCboHZgJosCyvqE1nA1TQ58NFV8GZAhNGttFNDi9LwHnRjaaFdLGvz6AoRdeVq42FvijjEY6Jc3LpYq6xkEmrnjMvAme7\",\n",
      "   \"xpub\": \"xpub6H7seC4YnZAhi2qfhppa3Skbm1mKdUW1NgKfvkf6gc69aAc3RngUFwfR94gLJUk5c3j9L9FNsViomGoS6hGrwjpR9jFNKriUmdCNdGEeV4Y\",\n",
      "   \"privkey\": \"KxFhAZZvM4vHigGoGnwCLuwoRV7YogvtqfWPPbEBX3G5nENARG65\",\n",
      "   \"pubkey\": \"02bfb0dfb5f257fb3d2535af2bbf068156b7a6704aee7b8d8c5fbe2eca77f14faf\",\n",
      "   \"pubkeyhash\": \"34350a3c2b5b63b705d7c6e6a2a3c3a5acb0c7b4\",\n",
      "   \"index\": 4\n",
      "  },\n",
      "  {\n",
      "   \"path\": \"m/44'/0'/0'/0/5\",\n",
      "   \"address\": \"1LnhbipwLNTRXNGJpQ5VdU8hS9N1Csp1np\",\n",
      "   \"xprv\": \"xprvA48XEgXexBcQYcyqzvFNdRwTh9TusPiBkrx8g69oXjSBdpN4YKeK3vSdrySZnEXxYTiHppyCkx6FFQhb7fpZYjPPZ5VfM1aPWiWmem7n2nN\",\n",
      "   \"xpub\": \"xpub6H7seC4YnZAhm74K6wnNzZtCFBJQGrS385sjUUZR64yAWchD5rxZbim7iEYtyoohc95CYWN1FPV8hDqxQCYHBVpBXknBbNXB66unhCEqgLD\",\n",
      "   \"privkey\": \"L5VsXygpHoevYbpq8whfVKf4ToAiZheAHdKDpfuseZE2GnyRAXo2\",\n",
      "   \"pubkey\": \"030160c58adfcb80d04fb10e2bb9d055ad8e8ef009085c923e80fc4c02f656e943\",\n",
      "   \"pubkeyhash\": \"d90eff8abbc4dac10f4161643fb902129d95c07d\",\n",
      "   \"index\": 5\n",
      "  },\n",
      "  {\n",
      "   \"path\": \"m/44'/0'/0'/0/6\",\n",
      "   \"address\": \"1KpcvTWvpC6Y811sm7YeFmfLaJQoVbptN6\",\n",
      "   \"xprv\": \"xprvA48XEgXexBcQcEtrP7Vr8cVLoLU3AJEdentS7KmcQeLq2Y35Yq7iRGrdCJU3j32WvHcYU1hrK6PBGKY9yVJJFEj8KL14GDkRBKaf8gxep55\",\n",
      "   \"xpub\": \"xpub6H7seC4YnZAhpiyKV92rVkS5MNJXZkxV21p2uiBDxysouLNE6NRxy5B73YojCr2RL5nYuZDeNheobzokciwy5nsWD2dEfNZDF96YVa4WPeE\",\n",
      "   \"privkey\": \"KzYzpGRxYmxTMUBDugpbazVnwRoGPDKFPVya8zYqn6DCJMQoodcp\",\n",
      "   \"pubkey\": \"02086a33a91c8bd40d4d1142d50f0cfaed0fc2571522333c6a618ef585a9ec95cb\",\n",
      "   \"pubkeyhash\": \"ce73ccdaff2a6e3eb3c0520940c201ea8e9d7e64\",\n",
      "   \"index\": 6\n",
      "  },\n",
      "  {\n",
      "   \"path\": \"m/44'/0'/0'/0/7\",\n",
      "   \"address\": \"1HVdnwrDd5Rns3Hc4WKRz4oMTcoosxKwFP\",\n",
      "   \"xprv\": \"xprvA48XEgXexBcQe2bhjgccKeAkAq2xqwABQQgpH5XjiTm5Lkgeyb4khno6jZb31y5GmB4f2Mzy3spRmXf7t2Y8TEQwVRzocVQB25E799YgXrn\",\n",
      "   \"xpub\": \"xpub6H7seC4YnZAhrWgAqi9cgn7UirsTFPt2mdcR5TwMGoJ4DZ1oX8P1Fb7aar5KgFmBxr5u8Q1ccDk1NxTEbv7e36TaZwmwhn8Xt62q1t95mq8\",\n",
      "   \"privkey\": \"L4QXJwoztBfktGEPs9kmCyLWbTX5TkVVcXt2NV3zdNFkmnt1XqjC\",\n",
      "   \"pubkey\": \"039656e3e70f65cdce69f5747fef30bcddd82c284d2dbc6ce024a697690eb927df\",\n",
      "   \"pubkeyhash\": \"b4ec5f3d00bb9ec2d8025410bdad6dcbec377275\",\n",
      "   \"index\": 7\n",
      "  },\n",
      "  {\n",
      "   \"path\": \"m/44'/0'/0'/0/8\",\n",
      "   \"address\": \"1JowVJ6yfByoenfGmJZZxXpgDwFeRci8Jx\",\n",
      "   \"xprv\": \"xprvA48XEgXexBcQhCowrP7Ew2GTbZLvgjXztwFbm8DuKa8wnN4bCBx2pywWH5CNgqxBsg2EPePSsNstz6P6sNxCskapcn3Mk3hD1XnxJtLabPK\",\n",
      "   \"xpub\": \"xpub6H7seC4YnZAhugtQxQeFJADC9bBR6CFrGABCZWdWsufvfAPjjjGHNnFz8MRTzvLnf3ZsWs9DrxXBt75So13DPKs2BwFRCJe1J1sMssi6unV\",\n",
      "   \"privkey\": \"L4Nw1yW6TuT2Er6skP6VYYcM9DYEB3pKLCTBfrzKs7tzS1SaQrji\",\n",
      "   \"pubkey\": \"037304675883371dbb7af0b01f77d6baca81a26ae8f570365e4d9fced3f7a1f0a4\",\n",
      "   \"pubkeyhash\": \"c35ac1b8ddf52f00eac05521d2753ad712f173ef\",\n",
      "   \"index\": 8\n",
      "  },\n",
      "  {\n",
      "   \"path\": \"m/44'/0'/0'/0/9\",\n",
      "   \"address\": \"1QF8HDP2hrQNZfZCeS3CTwakAbpumL1pvA\",\n",
      "   \"xprv\": \"xprvA48XEgXexBcQjZt9SieHLYasDQpjUCZBnRedvS4U7WATi6HsKdQz2QufzXchWwCkWHAbVZ6VXtcSPbNKGhwPD2Ym5DxDfU1s9wmqTrMHbSn\",\n",
      "   \"xpub\": \"xpub6H7seC4YnZAhx3xcYkBHhgXbmSfDsfH39eaEipU5fqhSatd1sAjEaDE9qn6LQynhQb61bhLcaMCJzdxmYAyWp74udiZQUQ7KPeT3PJ4sxQS\",\n",
      "   \"privkey\": \"L2j6AWCb4i9CiUYwhmBLeGdANw2QzUfdtN9qsK3o159HeuidVuoF\",\n",
      "   \"pubkey\": \"025b58693d4227e6357259f65a06f117901ecb8f4aea4005242eb4dedaf50cabc8\",\n",
      "   \"pubkeyhash\": \"fef6cb0bba71cc42c8e4706e60404905dd917cc6\",\n",
      "   \"index\": 9\n",
      "  }\n",
      " ],\n",
      " \"eth\": [\n",
      "  {\n",
      "   \"path\": \"m/44'/60'/0'/0/0\",\n",
      "   \"address\": \"0x3De0A2fD4A90f9A160ebb2B8711192D1F0eB339D\",\n",
      "   \"xprv\": \"xprvA3W3uzhjas8mpZrqS7oW9ar2SWxLGhwcPFT7S2j7VM8e9PbaYcfSJo4aDdsjd7yi9iPcKkvxg7TzmeNJniz84Y4rYgTaarwiMk66gZNwj3P\",\n",
      "   \"xpub\": \"xpub6GVQKWEdREh533wJY9LWWinkzYnpgAfTkUNiER8j3gfd2Bvj69ygrbP44uSWSEu9BwzQ2mboHQp17puXxT3y9xnXCt256vtjkzV2caX1xeT\",\n",
      "   \"privkey\": \"0x82d63adc8be924a92ef77c6e3286c4e80eaebad63ba2b91c27801a62ba2f9410\",\n",
      "   \"pubkey\": \"02c93d99b9686cabed081f1eb262b81a435ae2816ba940e0fea550a36603d8077b\",\n",
      "   \"pubkeyhash\": \"a90e4da9a141168d3e0ac3821015190a79df729c\",\n",
      "   \"index\": 0\n",
      "  },\n",
      "  {\n",
      "   \"path\": \"m/44'/60'/0'/0/1\",\n",
      "   \"address\": \"0xc5557310a53b90f18E926431B1896c29Df0dcc1a\",\n",
      "   \"xprv\": \"xprvA3W3uzhjas8msDSBJH94x7mqj53hfhCweGzWNRqsHamAi3MrZh4cDT4VywH5UH7UboqUbVazKeEn9gLy7TgeMbtWSuyYk852kBG75GZmB4r\",\n",
      "   \"xpub\": \"xpub6GVQKWEdREh55hWeQJg5KFiaH6tC59vo1Vv7ApFUqvJ9aqh17ENrmFNyqBeWXxBLL8hxPeeUw4A8HfovbNetZcGkNj6p1VoJiDt4UJ3L9RU\",\n",
      "   \"privkey\": \"0xf0c147a367c5732f750e0dc072540f71ec3e3a87fafee9e7516982861e9e259e\",\n",
      "   \"pubkey\": \"0299b67384c634d60ac57d9efc57a93b3a2d87b9eb63e3025652de882c269f2480\",\n",
      "   \"pubkeyhash\": \"8703eefc2cdcf91b844d7ec8090d2e89d092de58\",\n",
      "   \"index\": 1\n",
      "  },\n",
      "  {\n",
      "   \"path\": \"m/44'/60'/0'/0/2\",\n",
      "   \"address\": \"0x926841419b49910D80fCEa75d587BE3aefFf560e\",\n",
      "   \"xprv\": \"xprvA3W3uzhjas8mvbJ4eX1qKPXK7osvsQXSezDFvPW3dEpbJZ35xaJXxBdpPcrXDrqror7a2McmYr5HbL5Xiag834qfBkvhY5YvLKe3MPxFbch\",\n",
      "   \"xpub\": \"xpub6GVQKWEdREh595NXkYYqgXU3fqiRGsFJ2D8rimufBaMaBMNEW7cnVyxJEuPJW5HNqmbaVUfxVVhvPxd4SmjitFxyEY2YJHeF2GXfz5Q8yRb\",\n",
      "   \"privkey\": \"0x356c8dd425cf9714114bf73751c13d1ad34f4012e2ac37e564b0aaee238a0d2a\",\n",
      "   \"pubkey\": \"02fb003f8b9fd2e765b5c64b7f47832bc46ff818807e7903262c03a29d2b983f6a\",\n",
      "   \"pubkeyhash\": \"53c13c213c11034e676536944ec4f2cb5fb0b3c0\",\n",
      "   \"index\": 2\n",
      "  },\n",
      "  {\n",
      "   \"path\": \"m/44'/60'/0'/0/3\",\n",
      "   \"address\": \"0xE3d409Ef4D92b47c23058Bc1a8A04EBbE9cA712F\",\n",
      "   \"xprv\": \"xprvA3W3uzhjas8mwBxtNokqGMN6hJ3Vi8gGWqDuT2LiTeuUs1wHsdndoWhSasyk61DRqW9pTYV754KqFEnrk9U9eCFEFupxgVoWCVGwszGRLnz\",\n",
      "   \"xpub\": \"xpub6GVQKWEdREh59g3MUqHqdVJqFKsz7bQ7t49WFQkL1zSTjpGSRB6tMK1vS8TKB9aaLjdudbEEGJfRaJEZfouDaXvpfv8vh59bt2HN6CcS9wQ\",\n",
      "   \"privkey\": \"0x49f3de0d12d93689a071d200f01a51d811025f2c3c129808f882a50adcfb668b\",\n",
      "   \"pubkey\": \"0200d92530d6f5373492263c6432a016c4ba3790ac7392ed15f749627f09e893c1\",\n",
      "   \"pubkeyhash\": \"9b3ec4414b58575640a5d716033db632cef4e6b2\",\n",
      "   \"index\": 3\n",
      "  },\n",
      "  {\n",
      "   \"path\": \"m/44'/60'/0'/0/4\",\n",
      "   \"address\": \"0x01F2C32d14818903F2956261eD30C84F8809c178\",\n",
      "   \"xprv\": \"xprvA3W3uzhjas8n1PtqyjpiM7bHmrMAmgBxd7sMazgLLeeJwZ4g2TnyRsQM2GnjBDaS85WVRuXa7V8Er2Ph5PEHLK9DfDmXGyPMPqWFg7yvz1s\",\n",
      "   \"xpub\": \"xpub6GVQKWEdREh5DsyK5mMiiFY2KtBfB8uozLnxPP5wtzBHpMPpa17DyfipsXWX6K7Z3dGEAeawb2sDBv5bMjrD7aJep7vaWTJwZ1PJAnKpEz1\",\n",
      "   \"privkey\": \"0x76c0db47043828a36d746a83c503e789b777c793359e76b7b54d5642d2e07e6d\",\n",
      "   \"pubkey\": \"024df098630213bc669b0a6fd7de96cea08c070450f33da7030bb0dd2028a531aa\",\n",
      "   \"pubkeyhash\": \"a91a20f67bc5086120ebfe8e6aaf85e208564cf9\",\n",
      "   \"index\": 4\n",
      "  },\n",
      "  {\n",
      "   \"path\": \"m/44'/60'/0'/0/5\",\n",
      "   \"address\": \"0xAe9dCa3cd771b35c2B8d0180338fEFC62985dB5E\",\n",
      "   \"xprv\": \"xprvA3W3uzhjas8n2qUuSxaF9zUcgTJVzYTgF67mzaCgHfzwEDC9uzcxowARz1YZXVwdHg3k36DwcGYMS9pF5e9bHFYfUiR5Tb6ad78ri91QG8f\",\n",
      "   \"xpub\": \"xpub6GVQKWEdREh5FKZNYz7FX8RMEV8zQ1BXcK3NnxcHr1Xv71XJTXwDMjUuqKBv8zx3cqz9vLYCoXswP1DqqfXoCqwZ9i2qiAhDYKtGa3CAecb\",\n",
      "   \"privkey\": \"0x135ba3d99bf94370250654edc24d982e40aad52f6d35edea5f69754784710097\",\n",
      "   \"pubkey\": \"036b8f455886ccfbba51be22df905820ca2b73986884a05a58be0368a314cf1776\",\n",
      "   \"pubkeyhash\": \"735aec8517f29dcdcb8f14f032594a2bb5800c87\",\n",
      "   \"index\": 5\n",
      "  },\n",
      "  {\n",
      "   \"path\": \"m/44'/60'/0'/0/6\",\n",
      "   \"address\": \"0x72feD4D2FdBbddd8EB60564457253A457087Ee95\",\n",
      "   \"xprv\": \"xprvA3W3uzhjas8n5vtHtFWGBjFL8yvmd7izrVuQKmLLsvxCgzejm3C4UKLmbjYHLVaVkRKMNrNnQchVhVHRkbaw8AHezo3VVokKCBXpdT1UVw1\",\n",
      "   \"xpub\": \"xpub6GVQKWEdREh5JQxkzH3GYsC4h1mG2aSrDiq189jxSGVBZnytJaWK27fFT2SbcdYsjGsevX4A8JdnCDJeVuEXk52Ga3vxwrhi34mJhZZfbbK\",\n",
      "   \"privkey\": \"0xf82530656cd1e2a4a1abc62e5138dae12360a9172d65f646ab688396cccb88ef\",\n",
      "   \"pubkey\": \"03ee9e6b5c5d02e4406806315cf1b3683b4599bbd41bb1e46bd0102a7b88b27538\",\n",
      "   \"pubkeyhash\": \"9f5e5b3ac9f3dd1dd654736387c4620b8e073d7b\",\n",
      "   \"index\": 6\n",
      "  },\n",
      "  {\n",
      "   \"path\": \"m/44'/60'/0'/0/7\",\n",
      "   \"address\": \"0x69cBf50d645C241A3f17a8ab1eb2785a9F4a348A\",\n",
      "   \"xprv\": \"xprvA3W3uzhjas8n8WvmYTdNfXsDtMUfMZY8oZixoUfcMfxWpFhxiKcVa6VfvMxeGPjesEQZb5bnBbyhDdsYjdUw52hE2baUvpAx42gQpBSZgmz\",\n",
      "   \"xpub\": \"xpub6GVQKWEdREh5M11EeVAP2foxSPK9m2FzAneZbs5Dv1VVh437Frvk7tp9mctwkJkcT1SxxYtFCdCEt5Bt1EJWLpcNgGGUR5sXjTZBZmUpt66\",\n",
      "   \"privkey\": \"0xfa6519795cfad8e624f9d09056be9b0699c90987ccd9883205c682875ea97ced\",\n",
      "   \"pubkey\": \"02edfc8023c579658f133edd792843d0796c1097d60ef9eefaf863f37083e453aa\",\n",
      "   \"pubkeyhash\": \"7d270af25dea1a632146f9f14451a742dd3452b3\",\n",
      "   \"index\": 7\n",
      "  },\n",
      "  {\n",
      "   \"path\": \"m/44'/60'/0'/0/8\",\n",
      "   \"address\": \"0x26E902c2c991c582978A450Ce66D514CF8CBC557\",\n",
      "   \"xprv\": \"xprvA3W3uzhjas8nBbLL1qCg9ykqKtMuXZCvUjzdw47gA2NuGzHZt99jqTbXmFfmLgnegoUd3xf1dVH5Bd4bEgfucYR3FQAxEbPsjkKnSgC54ef\",\n",
      "   \"xpub\": \"xpub6GVQKWEdREh5Q5Qo7rjgX7hZsvCPw1vmqxvEjSXHiMut9nciRgTzPFv1cX28TmPB1G979kpWazBwWsN9XVoX4vHQSqDa3bey1GUzXDnpYvK\",\n",
      "   \"privkey\": \"0x1754f00d17ecdcbff983981aa68c17198391a6a715b17eaf6de3b51011e88cf1\",\n",
      "   \"pubkey\": \"02418f87cb0438f29265366fcaba195557fee9f0809834300f5fb57c5d5083bdfd\",\n",
      "   \"pubkeyhash\": \"87528835b9978223561f794465b224b521a14183\",\n",
      "   \"index\": 8\n",
      "  },\n",
      "  {\n",
      "   \"path\": \"m/44'/60'/0'/0/9\",\n",
      "   \"address\": \"0xF2E4C5A26CbB7bc90C46909C00d62F485E292280\",\n",
      "   \"xprv\": \"xprvA3W3uzhjas8nDDYgpKkonpTuamAopNtuqDddtjJMLRHWJ6oGJ97MW2Ee4k8uyPwekWA3LjnMLkZFVXqEapEgguxbmvXx5VeRZRdr15uygxN\",\n",
      "   \"xpub\": \"xpub6GVQKWEdREh5Rhd9vMHp9xQe8o1JDqcmCSZEh7hxtkpVAu8QqgRc3pZ7uzZg5tf3VhivBPYnpNyb8wmQfBCrAuMDEktoWnNJDqjVSjjAPCf\",\n",
      "   \"privkey\": \"0xb0e565775e37803bafa052e26c0a370fd1cb27cc483e6c70ed420b514e069d39\",\n",
      "   \"pubkey\": \"0261694ff55d1ae864c2c2beb7375ab54f7a9b537b0d0b2c00b67c905bb727c5eb\",\n",
      "   \"pubkeyhash\": \"dcd1c5325f55fd67e99a7caf2b7bf9b71d7eddd8\",\n",
      "   \"index\": 9\n",
      "  }\n",
      " ]\n",
      "}\n"
     ]
    }
   ],
   "source": [
    "print(json.dumps(keys, indent=1))"
   ]
  },
  {
   "cell_type": "code",
   "execution_count": null,
   "id": "9ec00102-fda3-41fc-8d06-aa835f6a2aed",
   "metadata": {},
   "outputs": [],
   "source": []
  },
  {
   "cell_type": "code",
   "execution_count": null,
   "id": "9945a9d4-a33e-4943-abf9-20f60bbfece1",
   "metadata": {},
   "outputs": [],
   "source": []
  },
  {
   "cell_type": "code",
   "execution_count": 42,
   "id": "ee7a23d2-86b5-4f77-bfea-49e0daba1c99",
   "metadata": {},
   "outputs": [
    {
     "name": "stdout",
     "output_type": "stream",
     "text": [
      "eth_acc =  <eth_account.signers.local.LocalAccount object at 0x000001ADA2F6D3D0>\n",
      "btc_acc= <PrivateKeyTestnet: mtgb9hthmFpY1zidrYmZ24eTF87aBA147h>\n"
     ]
    }
   ],
   "source": [
    "# Create a function called `priv_key_to_account` that converts privkey strings to account objects.\n",
    "def priv_key_to_account(coin, priv_key):\n",
    "    if coin == ETH:\n",
    "        return Account.privateKeyToAccount(priv_key)\n",
    "    if coin == BTCTEST:\n",
    "        return PrivateKeyTestnet(priv_key)\n",
    "    \n",
    "eth_acc = priv_key_to_account(ETH,eth_PrivateKey)\n",
    "btc_acc = priv_key_to_account(BTCTEST,btc_PrivateKey)\n",
    "\n",
    "print(\"eth_acc = \",eth_acc)\n",
    "print(\"btc_acc=\", btc_acc)"
   ]
  },
  {
   "cell_type": "code",
   "execution_count": 43,
   "id": "54077afd-3f44-4e64-bc2f-07eeb5963986",
   "metadata": {},
   "outputs": [],
   "source": [
    "# Create a function called `create_tx` that creates an unsigned transaction appropriate metadata.\n",
    "def create_tx(coin, account, recipient, amount):\n",
    "    \n",
    "    if coin ==ETH:\n",
    "        gasEstimate = w3.eth.estimateGas(\n",
    "            {\"from\": account.address, \"to\": recipient, \"value\": amount}\n",
    "        )\n",
    "        tx_data = {\n",
    "            \"to\": recipient,\n",
    "            \"from\": account.address,\n",
    "            \"value\": amount,\n",
    "            \"gasPrice\": w3.eth.gasPrice,\n",
    "            \"gas\": gasEstimate,\n",
    "            \"nonce\": w3.eth.getTransactionCount(account.address)\n",
    "        }\n",
    "        return tx_data\n",
    "\n",
    "    if coin == BTCTEST:\n",
    "        return PrivateKeyTestnet.prepare_transaction(account.address, [(recipient, amount, BTC)])  "
   ]
  },
  {
   "cell_type": "code",
   "execution_count": 47,
   "id": "fdc2e2aa-b853-4623-9e66-e07ee2ea1d93",
   "metadata": {},
   "outputs": [],
   "source": [
    "# Create a function called `send_tx` that calls `create_tx`, signs and sends the transaction.\n",
    "def send_tx(coin, account, recipient, amount):\n",
    "    \n",
    "    if coin == \"eth\": \n",
    "        tx_eth = create_tx(coin,account, recipient, amount)\n",
    "        sign = account.signTransaction(tx_eth)\n",
    "        result = w3.eth.sendRawTransaction(sign.rawTransaction)\n",
    "        print(result.hex())\n",
    "        return result.hex()\n",
    "    else:\n",
    "        tx_btctest= create_tx(coin,account,recipient,amount)\n",
    "        sign_tx_btctest = account.sign_transaction(tx_btctest)\n",
    "        from bit.network import NetworkAPI\n",
    "        NetworkAPI.broadcast_tx_testnet(sign_tx_btctest)       \n",
    "        return sign_tx_btctest"
   ]
  },
  {
   "cell_type": "code",
   "execution_count": 50,
   "id": "78e67538-9325-4547-8618-b3808f7912c5",
   "metadata": {},
   "outputs": [
    {
     "data": {
      "text/plain": [
       "'{\"unspents\":[{\"amount\":100000,\"confirmations\":5997,\"script\":\"76a914906c250da82c2bd3edf9bcbbbb29f2188065f9d288ac\",\"txid\":\"a92c6a98059c73858c3a893e332335b40cccee35f0d3a2082742f75d4d78ff95\",\"txindex\":0,\"type\":\"p2pkh\",\"vsize\":148,\"segwit\":false,\"sequence\":4294967295},{\"amount\":895161,\"confirmations\":38148,\"script\":\"76a914906c250da82c2bd3edf9bcbbbb29f2188065f9d288ac\",\"txid\":\"4ee749170bfa796f5984bb4c0118e7fd9adab6dc9ed5bfe92402199dcb2df611\",\"txindex\":1,\"type\":\"p2pkh\",\"vsize\":148,\"segwit\":false,\"sequence\":4294967295},{\"amount\":100000,\"confirmations\":0,\"script\":\"76a914906c250da82c2bd3edf9bcbbbb29f2188065f9d288ac\",\"txid\":\"cfe1da392352d3fed4468a94ce3dba03bc0f596b0a790673826243eb5bee2cca\",\"txindex\":1,\"type\":\"p2pkh\",\"vsize\":148,\"segwit\":false,\"sequence\":4294967295},{\"amount\":20000,\"confirmations\":0,\"script\":\"76a914906c250da82c2bd3edf9bcbbbb29f2188065f9d288ac\",\"txid\":\"7ed5d428ac0665809fc82a14d5c3580d1c7e0b2aea155c7490f363bf57b128ab\",\"txindex\":0,\"type\":\"p2pkh\",\"vsize\":148,\"segwit\":false,\"sequence\":4294967295}],\"outputs\":[[\"mxwSU31v1NtbUi6Pc5bN9BgmmAGw13JdvX\",1000000],[\"mtgb9hthmFpY1zidrYmZ24eTF87aBA147h\",46821]]}'"
      ]
     },
     "execution_count": 50,
     "metadata": {},
     "output_type": "execute_result"
    }
   ],
   "source": [
    "create_tx(BTCTEST,btc_acc,\"mxwSU31v1NtbUi6Pc5bN9BgmmAGw13JdvX\", 0.01)"
   ]
  },
  {
   "cell_type": "code",
   "execution_count": 51,
   "id": "dd544e43-60fe-4dc3-91e6-099db4e10386",
   "metadata": {},
   "outputs": [
    {
     "data": {
      "text/plain": [
       "'010000000495ff784d5df7422708a2d3f035eecc0cb43523333e893a8c85739c05986a2ca9000000006b48304502210095a6d695196ffda3e9fa8e640bffbb326fa5b3433d707aab4586890fe95441950220602d3800ce25e264812bc3a13bc4954b446f2532cd0edbb2c9a8d6071ca4bfc401210339b281b12687c70a024ef409229b55d404533b4e9a475dc9d3883c0172913fb6ffffffffab28b157bf63f390745c15ea2a0b7e1c0d58c3d5142ac89f806506ac28d4d57e000000006a473044022037f595787642d10ccefeb8d0c31707b7342b42cb1bfa3fdfcda9cb539448574a02205608182a4971ddda2458baf7ec806e0d515ccc8f2185502b6434078fecd4bdf301210339b281b12687c70a024ef409229b55d404533b4e9a475dc9d3883c0172913fb6ffffffff11f62dcb9d190224e9bfd59edcb6da9afde718014cbb84596f79fa0b1749e74e010000006b483045022100ab7984c22d037084e9a141e1d70ba1d5f3a29e43149bfbe80164904a3650d1fd022064bbe65f1a26b3f1edd9722e928313b2c5c69b7af6d2a80c083d1c3f63c4020e01210339b281b12687c70a024ef409229b55d404533b4e9a475dc9d3883c0172913fb6ffffffffca2cee5beb4362827306790a6b590fbc03ba3dce948a46d4fed3522339dae1cf010000006b483045022100da9245d274bed5ac3aa7c5d704d150340d5302b6e55c154fa1b19f3fd601639d022035e06244796df55fefa55421df46dda9124e5dc262a4efbebe16f6b4930d812001210339b281b12687c70a024ef409229b55d404533b4e9a475dc9d3883c0172913fb6ffffffff0240420f00000000001976a914bf1ba366dd65a4824c22f497bbff1fae8900784188ace5b60000000000001976a914906c250da82c2bd3edf9bcbbbb29f2188065f9d288ac00000000'"
      ]
     },
     "execution_count": 51,
     "metadata": {},
     "output_type": "execute_result"
    }
   ],
   "source": [
    "send_tx(BTCTEST,btc_acc,\"mxwSU31v1NtbUi6Pc5bN9BgmmAGw13JdvX\", 0.01)"
   ]
  },
  {
   "cell_type": "code",
   "execution_count": 56,
   "id": "72ca7330-b8d0-4dfa-9075-3260f925d5fe",
   "metadata": {},
   "outputs": [],
   "source": [
    "##ETH"
   ]
  },
  {
   "cell_type": "code",
   "execution_count": 57,
   "id": "470d0b13-d218-4f34-ac17-68a97cc6795d",
   "metadata": {},
   "outputs": [],
   "source": [
    "from web3.middleware import geth_poa_middleware\n",
    "\n",
    "w3.middleware_onion.inject(geth_poa_middleware, layer=0)"
   ]
  },
  {
   "cell_type": "code",
   "execution_count": 58,
   "id": "830807d3-ac8d-416b-a675-c6dde88986df",
   "metadata": {},
   "outputs": [],
   "source": [
    "from web3 import Web3, HTTPProvider"
   ]
  },
  {
   "cell_type": "code",
   "execution_count": 59,
   "id": "97b342e9-6edb-4574-917a-1add09b43f4f",
   "metadata": {},
   "outputs": [],
   "source": [
    "w3 = Web3(Web3.HTTPProvider(\"http://127.0.0.1:8545\"))"
   ]
  },
  {
   "cell_type": "code",
   "execution_count": 60,
   "id": "764575aa-336a-4b56-8a60-d45821f5bdf7",
   "metadata": {},
   "outputs": [
    {
     "data": {
      "text/plain": [
       "False"
      ]
     },
     "execution_count": 60,
     "metadata": {},
     "output_type": "execute_result"
    }
   ],
   "source": [
    "w3.isConnected()"
   ]
  },
  {
   "cell_type": "code",
   "execution_count": null,
   "id": "0d747fb9-821d-405c-add0-8ebfea539d04",
   "metadata": {},
   "outputs": [],
   "source": [
    "w3.eth.getBalance(\"0x926841419b49910D80fCEa75d587BE3aefFf560e\")"
   ]
  },
  {
   "cell_type": "code",
   "execution_count": null,
   "id": "e37bb555-dc3e-469c-a091-e2a168c14958",
   "metadata": {},
   "outputs": [],
   "source": [
    "create_tx(ETH,eth_acc,\"0xE3d409Ef4D92b47c23058Bc1a8A04EBbE9cA712F\", 1000)"
   ]
  },
  {
   "cell_type": "code",
   "execution_count": null,
   "id": "67665587-1746-40e4-aa30-ae87f5e63a65",
   "metadata": {},
   "outputs": [],
   "source": [
    "send_trx(ETH, eth_acc,\"0xE3d409Ef4D92b47c23058Bc1a8A04EBbE9cA712F\", 1000)"
   ]
  },
  {
   "cell_type": "code",
   "execution_count": null,
   "id": "c456de4d-03b8-445e-9f79-b7a3b7907bfd",
   "metadata": {},
   "outputs": [],
   "source": []
  }
 ],
 "metadata": {
  "kernelspec": {
   "display_name": "Python 3",
   "language": "python",
   "name": "python3"
  },
  "language_info": {
   "codemirror_mode": {
    "name": "ipython",
    "version": 3
   },
   "file_extension": ".py",
   "mimetype": "text/x-python",
   "name": "python",
   "nbconvert_exporter": "python",
   "pygments_lexer": "ipython3",
   "version": "3.8.5"
  }
 },
 "nbformat": 4,
 "nbformat_minor": 5
}
